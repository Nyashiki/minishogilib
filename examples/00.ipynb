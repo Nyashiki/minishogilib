{
  "cells": [
    {
      "cell_type": "code",
      "execution_count": null,
      "metadata": {
        "colab": {
          "base_uri": "https://localhost:8080/"
        },
        "id": "1EGQxXAsYZYG",
        "outputId": "b50302c3-bdf2-4972-f452-47dfa25474e5"
      },
      "outputs": [],
      "source": [
        "!pip3 install minishogilib"
      ]
    },
    {
      "cell_type": "code",
      "execution_count": 3,
      "metadata": {
        "id": "MffDIJn_YvfE"
      },
      "outputs": [],
      "source": [
        "import minishogilib"
      ]
    },
    {
      "cell_type": "code",
      "execution_count": 11,
      "metadata": {
        "colab": {
          "base_uri": "https://localhost:8080/"
        },
        "id": "QUYvugoUYdRB",
        "outputId": "275f0160-0deb-4672-806c-87a4411c9d85"
      },
      "outputs": [
        {
          "name": "stdout",
          "output_type": "stream",
          "text": [
            "rbsgk/4p/5/P4/KGSBR b - 1\n"
          ]
        }
      ],
      "source": [
        "# Position instance\n",
        "position = minishogilib.Position()\n",
        "\n",
        "# Set the position to the initial position\n",
        "position.set_start_position()\n",
        "# Here is another way.\n",
        "# position.set_sfen('rbsgk/4p/5/P4/KGSBR b - 1')\n",
        "\n",
        "# Convert the position into sfen.\n",
        "sfen = position.sfen(history=False)\n",
        "print(sfen)"
      ]
    },
    {
      "cell_type": "code",
      "execution_count": 10,
      "metadata": {
        "colab": {
          "base_uri": "https://localhost:8080/"
        },
        "id": "J8yyqKOfYstQ",
        "outputId": "3cfcbc96-4f1d-4f4e-d92b-f6096fa97f6c"
      },
      "outputs": [
        {
          "name": "stdout",
          "output_type": "stream",
          "text": [
            "[5d5c, 5e4d, 4e4d, 4e3d, 3e4d, 3e3d, 3e2d, 2e5b, 2e4c, 2e3d, 2e1d, 1e1b, 1e1c, 1e1d]\n"
          ]
        }
      ],
      "source": [
        "# Generate all legal moves.\n",
        "moves = position.generate_moves()\n",
        "print(moves)"
      ]
    },
    {
      "cell_type": "code",
      "execution_count": 17,
      "metadata": {
        "colab": {
          "base_uri": "https://localhost:8080/"
        },
        "id": "VaGHK4uTZMIr",
        "outputId": "6f9f53d2-f222-497a-c9f9-b96401c9744f"
      },
      "outputs": [
        {
          "name": "stdout",
          "output_type": "stream",
          "text": [
            "sfen with history moves: rbsgk/4p/5/P4/KGSBR b - 1 moves 4e4d\n",
            "sfen without history moves: rbsgk/4p/5/PG3/K1SBR w - 1\n"
          ]
        }
      ],
      "source": [
        "position.set_start_position()\n",
        "\n",
        "# Move a piece along a given sfen move.\n",
        "move = position.sfen_to_move('4e4d')\n",
        "position.do_move(move)\n",
        "\n",
        "print('sfen with history moves:', position.sfen(history=True))\n",
        "print('sfen without history moves:', position.sfen(history=False))"
      ]
    },
    {
      "cell_type": "code",
      "execution_count": null,
      "metadata": {
        "id": "ftf40NjfaN6o"
      },
      "outputs": [],
      "source": []
    }
  ],
  "metadata": {
    "colab": {
      "collapsed_sections": [],
      "name": "minishogi.ipynb",
      "provenance": []
    },
    "kernelspec": {
      "display_name": "Python 3",
      "name": "python3"
    },
    "language_info": {
      "name": "python"
    }
  },
  "nbformat": 4,
  "nbformat_minor": 0
}
